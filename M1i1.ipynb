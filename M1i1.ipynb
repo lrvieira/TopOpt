{
 "cells": [
  {
   "cell_type": "markdown",
   "metadata": {},
   "source": [
    "# Plano de Trabalho - Otimização de Geometria\n",
    "\n",
    "Conforme nossa reunião e conversa com o Henrique, segue uma proposta.\n",
    "\n",
    "A ideia é montar 'blocos' de código que possuam uma função específica e que possam ser alterados, mas que sigam uma sequência determinada:\n",
    "\n",
    "1. Informar os parâmetros (geometria, condições de contorno, propriedades do material, etc.);\n",
    "2. Discretizar o sólido conforme parâmetros geométricos informados;\n",
    "3. Exportar o sólido discretizado para um software ou algoritmo que faça a análise por elementos finitos e obtenha a tensão máxima de ruptura (TR);\n",
    "4. A partir de TR e da massa total M do sólido, $$M=\\sum_{i=1}^{n} m_i$$ calcula-se a razão TR/M, de forma que quanto maior for essa razão, otimiza-se a topologia do sólido;\n",
    "5. Um algoritmo de minimização global retira elementos de massa do sólido tentando maximizar a razão TR/M.\n",
    "\n",
    "Os passos 3-5 são iterados continuamente até se atingir um critério de parada.\n",
    "\n",
    "\n",
    "Abaixo apresento uma ideia para o módulo 2 (discretização do sólido)"
   ]
  },
  {
   "cell_type": "markdown",
   "metadata": {},
   "source": [
    "### Módulo 2 - Proposta 1 - Discretização do sólido\n",
    "\n",
    "\n",
    "Informar os parâmetros geométricos externos do sólido (**L** e **H**) e a quantidade de elementos que se quer utilizar para discretizar o sólido\n",
    "\n",
    "\n",
    "Uma forma de fazer isso é informar quantas divisões em ***x*** e ***y*** se deseja, assim a quantidade de elementos é calculada automaticamente, sendo ***x*** e ***y*** números do conjunto dos naturais não nulos.\n",
    "     Ex: L=8 H=6 x=4 y=3; e=12\n",
    "     \n",
    "O sólido possui um comprimento de 8 unidades e altura de 6 unidades e está discretizado por 12 retângulos, sendo que são 4 divisões em x e 3 em y. Acredito que seja uma boa ideia manter o tamanho do lado constante tanto para x quanto pra y (elementos quadrados).\n",
    "     \n",
    "     \n",
    "Cada elemento possui um índice respectivo [e1, e2, e3 ..., en] e uma função imagem que representa a presença ou não de massa [1, 1, 1, ..., 0]\n",
    "   \n",
    "y\n",
    "|_\n",
    " x\n",
    "    \n",
    "função elemento\n",
    "   \n",
    "| e9 | e10 | e11 | e12 |\n",
    "|----|-----|-----|-----|\n",
    "| e5 | e6  | e7  | e8  |\n",
    "| e1 | e2  | e3  | e4  |\n",
    "\n",
    "\n",
    "função imagem\n",
    "\n",
    "| 0 | 0 | 1 | 1 |\n",
    "|---|---|---|---|\n",
    "| 0 | 1 | 1 | 1 |\n",
    "| 1 | 1 | 1 | 1 |\n",
    "\n",
    "\n",
    "Nesta proposta optei por começar a contagem dos índices na parte inferior esquerda, e ir aumentando na direção da direita e para cima, mas isso é indiferente. Só precisamos 'casar' cada imagem com seu respectivo elemento.\n",
    "\n",
    "\n",
    "Com essas duas informações é possível montar um sólido a partir de uma função ***f(e)*** cujo domínio ***e*** só pode assumir valores naturais entre \"1\" e \"12\", pois sabemos que a cada 4 unidades em x haverá uma quebra de linha em y.\n",
    "\n",
    "A função também pode ser plotada como \"pulsos\" de massa em cada posição considerada. (Na posição 4 existe massa, na 5 não)\n",
    "\n",
    "<img src=\"M1i1_plot.png\" />"
   ]
  },
  {
   "cell_type": "markdown",
   "metadata": {
    "collapsed": true
   },
   "source": [
    "Bom, essa é minha ideia inicial. Estarei compartilhando este notebook para que possam ser adicionadas novas ideias e/ou alterações"
   ]
  }
 ],
 "metadata": {
  "anaconda-cloud": {},
  "kernelspec": {
   "display_name": "Python [conda root]",
   "language": "python",
   "name": "conda-root-py"
  },
  "language_info": {
   "codemirror_mode": {
    "name": "ipython",
    "version": 3
   },
   "file_extension": ".py",
   "mimetype": "text/x-python",
   "name": "python",
   "nbconvert_exporter": "python",
   "pygments_lexer": "ipython3",
   "version": "3.5.2"
  }
 },
 "nbformat": 4,
 "nbformat_minor": 1
}
